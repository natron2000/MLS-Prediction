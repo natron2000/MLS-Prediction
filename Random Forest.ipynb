{
 "cells": [
  {
   "cell_type": "markdown",
   "metadata": {},
   "source": [
    "This is a Notebook using Rain Forest to predict the winner of a match using different statistic of the present game.\n",
    "The only two variables that it needs are Goals and the Opponent goals (no surprise).\n",
    "While this does not give any real value it is a way to properly applied the rain forest model and a stepping point\n",
    "for any future project that will involve this method. \n",
    "The data use was all football games played in the regular 2019 season in MLS. It was scratch from the ESPN website. "
   ]
  },
  {
   "cell_type": "code",
   "execution_count": 2,
   "metadata": {},
   "outputs": [],
   "source": [
    "import pandas as pd\n",
    "import numpy as np\n",
    "import xlrd\n",
    "from sklearn.ensemble import RandomForestRegressor\n",
    "from sklearn.model_selection import train_test_split"
   ]
  },
  {
   "cell_type": "code",
   "execution_count": 3,
   "metadata": {},
   "outputs": [],
   "source": [
    "# read and put in df format the first sheet of MLS excel\n",
    "df = pd.concat(pd.read_excel('MLS.xls', sheet_name=None),ignore_index=True)"
   ]
  },
  {
   "cell_type": "code",
   "execution_count": 4,
   "metadata": {
    "scrolled": true
   },
   "outputs": [
    {
     "data": {
      "text/html": [
       "<div>\n",
       "<style scoped>\n",
       "    .dataframe tbody tr th:only-of-type {\n",
       "        vertical-align: middle;\n",
       "    }\n",
       "\n",
       "    .dataframe tbody tr th {\n",
       "        vertical-align: top;\n",
       "    }\n",
       "\n",
       "    .dataframe thead th {\n",
       "        text-align: right;\n",
       "    }\n",
       "</style>\n",
       "<table border=\"1\" class=\"dataframe\">\n",
       "  <thead>\n",
       "    <tr style=\"text-align: right;\">\n",
       "      <th></th>\n",
       "      <th>Win</th>\n",
       "      <th>HomeOrAway</th>\n",
       "      <th>Goals</th>\n",
       "      <th>Possession</th>\n",
       "      <th>Shots</th>\n",
       "      <th>Shots on Target</th>\n",
       "      <th>Fouls</th>\n",
       "      <th>Yellow Cards</th>\n",
       "      <th>Red Cards</th>\n",
       "      <th>Offsides</th>\n",
       "      <th>...</th>\n",
       "      <th>Opponent Goals</th>\n",
       "      <th>Opponent Possession</th>\n",
       "      <th>Opponent Shots</th>\n",
       "      <th>opponent Shots on Target</th>\n",
       "      <th>Opponent Fouls</th>\n",
       "      <th>Opponent Yellow Cards</th>\n",
       "      <th>Opponent Red Cards</th>\n",
       "      <th>Opponent Offsides</th>\n",
       "      <th>Opponent Corner Kicks</th>\n",
       "      <th>Opponent Opponent Saves</th>\n",
       "    </tr>\n",
       "  </thead>\n",
       "  <tbody>\n",
       "    <tr>\n",
       "      <th>count</th>\n",
       "      <td>768.000000</td>\n",
       "      <td>768.000000</td>\n",
       "      <td>768.000000</td>\n",
       "      <td>768.000000</td>\n",
       "      <td>768.000000</td>\n",
       "      <td>768.000000</td>\n",
       "      <td>768.000000</td>\n",
       "      <td>768.000000</td>\n",
       "      <td>768.000000</td>\n",
       "      <td>768.000000</td>\n",
       "      <td>...</td>\n",
       "      <td>768.000000</td>\n",
       "      <td>768.000000</td>\n",
       "      <td>768.000000</td>\n",
       "      <td>768.000000</td>\n",
       "      <td>768.000000</td>\n",
       "      <td>768.000000</td>\n",
       "      <td>768.000000</td>\n",
       "      <td>768.000000</td>\n",
       "      <td>768.000000</td>\n",
       "      <td>768.000000</td>\n",
       "    </tr>\n",
       "    <tr>\n",
       "      <th>mean</th>\n",
       "      <td>0.498698</td>\n",
       "      <td>0.511719</td>\n",
       "      <td>1.531250</td>\n",
       "      <td>50.091146</td>\n",
       "      <td>13.822917</td>\n",
       "      <td>4.824219</td>\n",
       "      <td>11.690104</td>\n",
       "      <td>1.778646</td>\n",
       "      <td>0.100260</td>\n",
       "      <td>1.789062</td>\n",
       "      <td>...</td>\n",
       "      <td>1.528646</td>\n",
       "      <td>49.908854</td>\n",
       "      <td>13.777344</td>\n",
       "      <td>4.778646</td>\n",
       "      <td>11.673177</td>\n",
       "      <td>1.785156</td>\n",
       "      <td>0.093750</td>\n",
       "      <td>1.783854</td>\n",
       "      <td>5.299479</td>\n",
       "      <td>3.282552</td>\n",
       "    </tr>\n",
       "    <tr>\n",
       "      <th>std</th>\n",
       "      <td>0.443699</td>\n",
       "      <td>0.500188</td>\n",
       "      <td>1.278266</td>\n",
       "      <td>9.699099</td>\n",
       "      <td>5.632361</td>\n",
       "      <td>2.624543</td>\n",
       "      <td>3.708098</td>\n",
       "      <td>1.213983</td>\n",
       "      <td>0.329513</td>\n",
       "      <td>1.596863</td>\n",
       "      <td>...</td>\n",
       "      <td>1.276285</td>\n",
       "      <td>9.699099</td>\n",
       "      <td>5.556035</td>\n",
       "      <td>2.559939</td>\n",
       "      <td>3.681762</td>\n",
       "      <td>1.208159</td>\n",
       "      <td>0.325472</td>\n",
       "      <td>1.565651</td>\n",
       "      <td>2.924767</td>\n",
       "      <td>2.156125</td>\n",
       "    </tr>\n",
       "    <tr>\n",
       "      <th>min</th>\n",
       "      <td>0.000000</td>\n",
       "      <td>0.000000</td>\n",
       "      <td>0.000000</td>\n",
       "      <td>22.000000</td>\n",
       "      <td>2.000000</td>\n",
       "      <td>0.000000</td>\n",
       "      <td>1.000000</td>\n",
       "      <td>0.000000</td>\n",
       "      <td>0.000000</td>\n",
       "      <td>0.000000</td>\n",
       "      <td>...</td>\n",
       "      <td>0.000000</td>\n",
       "      <td>22.000000</td>\n",
       "      <td>2.000000</td>\n",
       "      <td>0.000000</td>\n",
       "      <td>1.000000</td>\n",
       "      <td>0.000000</td>\n",
       "      <td>0.000000</td>\n",
       "      <td>0.000000</td>\n",
       "      <td>0.000000</td>\n",
       "      <td>0.000000</td>\n",
       "    </tr>\n",
       "    <tr>\n",
       "      <th>25%</th>\n",
       "      <td>0.000000</td>\n",
       "      <td>0.000000</td>\n",
       "      <td>1.000000</td>\n",
       "      <td>43.000000</td>\n",
       "      <td>10.000000</td>\n",
       "      <td>3.000000</td>\n",
       "      <td>9.000000</td>\n",
       "      <td>1.000000</td>\n",
       "      <td>0.000000</td>\n",
       "      <td>1.000000</td>\n",
       "      <td>...</td>\n",
       "      <td>1.000000</td>\n",
       "      <td>43.000000</td>\n",
       "      <td>10.000000</td>\n",
       "      <td>3.000000</td>\n",
       "      <td>9.000000</td>\n",
       "      <td>1.000000</td>\n",
       "      <td>0.000000</td>\n",
       "      <td>1.000000</td>\n",
       "      <td>3.000000</td>\n",
       "      <td>2.000000</td>\n",
       "    </tr>\n",
       "    <tr>\n",
       "      <th>50%</th>\n",
       "      <td>0.500000</td>\n",
       "      <td>1.000000</td>\n",
       "      <td>1.000000</td>\n",
       "      <td>50.000000</td>\n",
       "      <td>13.000000</td>\n",
       "      <td>5.000000</td>\n",
       "      <td>12.000000</td>\n",
       "      <td>2.000000</td>\n",
       "      <td>0.000000</td>\n",
       "      <td>1.000000</td>\n",
       "      <td>...</td>\n",
       "      <td>1.000000</td>\n",
       "      <td>50.000000</td>\n",
       "      <td>13.000000</td>\n",
       "      <td>4.500000</td>\n",
       "      <td>12.000000</td>\n",
       "      <td>2.000000</td>\n",
       "      <td>0.000000</td>\n",
       "      <td>1.000000</td>\n",
       "      <td>5.000000</td>\n",
       "      <td>3.000000</td>\n",
       "    </tr>\n",
       "    <tr>\n",
       "      <th>75%</th>\n",
       "      <td>1.000000</td>\n",
       "      <td>1.000000</td>\n",
       "      <td>2.000000</td>\n",
       "      <td>57.000000</td>\n",
       "      <td>17.000000</td>\n",
       "      <td>6.000000</td>\n",
       "      <td>14.000000</td>\n",
       "      <td>3.000000</td>\n",
       "      <td>0.000000</td>\n",
       "      <td>3.000000</td>\n",
       "      <td>...</td>\n",
       "      <td>2.000000</td>\n",
       "      <td>57.000000</td>\n",
       "      <td>17.000000</td>\n",
       "      <td>6.000000</td>\n",
       "      <td>14.000000</td>\n",
       "      <td>3.000000</td>\n",
       "      <td>0.000000</td>\n",
       "      <td>3.000000</td>\n",
       "      <td>7.000000</td>\n",
       "      <td>4.250000</td>\n",
       "    </tr>\n",
       "    <tr>\n",
       "      <th>max</th>\n",
       "      <td>1.000000</td>\n",
       "      <td>1.000000</td>\n",
       "      <td>7.000000</td>\n",
       "      <td>78.000000</td>\n",
       "      <td>43.000000</td>\n",
       "      <td>19.000000</td>\n",
       "      <td>23.000000</td>\n",
       "      <td>5.000000</td>\n",
       "      <td>2.000000</td>\n",
       "      <td>9.000000</td>\n",
       "      <td>...</td>\n",
       "      <td>7.000000</td>\n",
       "      <td>78.000000</td>\n",
       "      <td>43.000000</td>\n",
       "      <td>19.000000</td>\n",
       "      <td>23.000000</td>\n",
       "      <td>5.000000</td>\n",
       "      <td>2.000000</td>\n",
       "      <td>9.000000</td>\n",
       "      <td>16.000000</td>\n",
       "      <td>16.000000</td>\n",
       "    </tr>\n",
       "  </tbody>\n",
       "</table>\n",
       "<p>8 rows × 22 columns</p>\n",
       "</div>"
      ],
      "text/plain": [
       "              Win  HomeOrAway       Goals  Possession       Shots  \\\n",
       "count  768.000000  768.000000  768.000000  768.000000  768.000000   \n",
       "mean     0.498698    0.511719    1.531250   50.091146   13.822917   \n",
       "std      0.443699    0.500188    1.278266    9.699099    5.632361   \n",
       "min      0.000000    0.000000    0.000000   22.000000    2.000000   \n",
       "25%      0.000000    0.000000    1.000000   43.000000   10.000000   \n",
       "50%      0.500000    1.000000    1.000000   50.000000   13.000000   \n",
       "75%      1.000000    1.000000    2.000000   57.000000   17.000000   \n",
       "max      1.000000    1.000000    7.000000   78.000000   43.000000   \n",
       "\n",
       "       Shots on Target       Fouls  Yellow Cards   Red Cards    Offsides  ...  \\\n",
       "count       768.000000  768.000000    768.000000  768.000000  768.000000  ...   \n",
       "mean          4.824219   11.690104      1.778646    0.100260    1.789062  ...   \n",
       "std           2.624543    3.708098      1.213983    0.329513    1.596863  ...   \n",
       "min           0.000000    1.000000      0.000000    0.000000    0.000000  ...   \n",
       "25%           3.000000    9.000000      1.000000    0.000000    1.000000  ...   \n",
       "50%           5.000000   12.000000      2.000000    0.000000    1.000000  ...   \n",
       "75%           6.000000   14.000000      3.000000    0.000000    3.000000  ...   \n",
       "max          19.000000   23.000000      5.000000    2.000000    9.000000  ...   \n",
       "\n",
       "       Opponent Goals  Opponent Possession  Opponent Shots  \\\n",
       "count      768.000000           768.000000      768.000000   \n",
       "mean         1.528646            49.908854       13.777344   \n",
       "std          1.276285             9.699099        5.556035   \n",
       "min          0.000000            22.000000        2.000000   \n",
       "25%          1.000000            43.000000       10.000000   \n",
       "50%          1.000000            50.000000       13.000000   \n",
       "75%          2.000000            57.000000       17.000000   \n",
       "max          7.000000            78.000000       43.000000   \n",
       "\n",
       "       opponent Shots on Target  Opponent Fouls  Opponent Yellow Cards  \\\n",
       "count                768.000000      768.000000             768.000000   \n",
       "mean                   4.778646       11.673177               1.785156   \n",
       "std                    2.559939        3.681762               1.208159   \n",
       "min                    0.000000        1.000000               0.000000   \n",
       "25%                    3.000000        9.000000               1.000000   \n",
       "50%                    4.500000       12.000000               2.000000   \n",
       "75%                    6.000000       14.000000               3.000000   \n",
       "max                   19.000000       23.000000               5.000000   \n",
       "\n",
       "       Opponent Red Cards  Opponent Offsides  Opponent Corner Kicks  \\\n",
       "count          768.000000         768.000000             768.000000   \n",
       "mean             0.093750           1.783854               5.299479   \n",
       "std              0.325472           1.565651               2.924767   \n",
       "min              0.000000           0.000000               0.000000   \n",
       "25%              0.000000           1.000000               3.000000   \n",
       "50%              0.000000           1.000000               5.000000   \n",
       "75%              0.000000           3.000000               7.000000   \n",
       "max              2.000000           9.000000              16.000000   \n",
       "\n",
       "       Opponent Opponent Saves  \n",
       "count               768.000000  \n",
       "mean                  3.282552  \n",
       "std                   2.156125  \n",
       "min                   0.000000  \n",
       "25%                   2.000000  \n",
       "50%                   3.000000  \n",
       "75%                   4.250000  \n",
       "max                  16.000000  \n",
       "\n",
       "[8 rows x 22 columns]"
      ]
     },
     "execution_count": 4,
     "metadata": {},
     "output_type": "execute_result"
    }
   ],
   "source": [
    "df.describe()"
   ]
  },
  {
   "cell_type": "code",
   "execution_count": 5,
   "metadata": {},
   "outputs": [
    {
     "name": "stdout",
     "output_type": "stream",
     "text": [
      "     Win  HomeOrAway  Goals  Possession  Shots  Shots on Target  Fouls  \\\n",
      "0    1.0           1      3          51     20               10     10   \n",
      "1    0.5           0      1          52     14                6     12   \n",
      "2    0.0           0      1          45     10                4     16   \n",
      "3    1.0           1      3          61     18               12     10   \n",
      "4    1.0           0      2          66     15                5     12   \n",
      "..   ...         ...    ...         ...    ...              ...    ...   \n",
      "763  1.0           1      1          39     11                4     17   \n",
      "764  0.5           0      1          40      9                2     10   \n",
      "765  0.0           1      0          45     14                5     12   \n",
      "766  0.5           1      0          43     12                3     12   \n",
      "767  0.0           0      2          45      7                3     14   \n",
      "\n",
      "     Yellow Cards  Red Cards  Offsides  ...  Opponent Goals  \\\n",
      "0               0          0         3  ...               1   \n",
      "1               0          0         4  ...               1   \n",
      "2               4          0         0  ...               4   \n",
      "3               2          0         0  ...               1   \n",
      "4               3          0         2  ...               0   \n",
      "..            ...        ...       ...  ...             ...   \n",
      "763             3          0         2  ...               0   \n",
      "764             1          0         1  ...               1   \n",
      "765             2          0         1  ...               2   \n",
      "766             1          0         0  ...               0   \n",
      "767             1          0         2  ...               3   \n",
      "\n",
      "     Opponent Possession Opponent Shots  opponent Shots on Target  \\\n",
      "0                     49             18                         4   \n",
      "1                     48             10                         4   \n",
      "2                     55             16                         8   \n",
      "3                     39              3                         2   \n",
      "4                     34             14                         2   \n",
      "..                   ...            ...                       ...   \n",
      "763                   61             14                         3   \n",
      "764                   60             23                         6   \n",
      "765                   55             15                         3   \n",
      "766                   57             14                         3   \n",
      "767                   55             21                         6   \n",
      "\n",
      "     Opponent Fouls  Opponent Yellow Cards  Opponent Red Cards  \\\n",
      "0                10                      2                   0   \n",
      "1                 7                      0                   0   \n",
      "2                15                      5                   0   \n",
      "3                15                      2                   2   \n",
      "4                 9                      1                   0   \n",
      "..              ...                    ...                 ...   \n",
      "763              17                      2                   0   \n",
      "764               7                      1                   0   \n",
      "765              10                      2                   0   \n",
      "766              11                      0                   0   \n",
      "767              19                      2                   0   \n",
      "\n",
      "     Opponent Offsides  Opponent Corner Kicks  Opponent Opponent Saves  \n",
      "0                    4                      5                        7  \n",
      "1                    0                      8                        5  \n",
      "2                    2                      3                        3  \n",
      "3                    0                      4                        9  \n",
      "4                    1                      4                        4  \n",
      "..                 ...                    ...                      ...  \n",
      "763                  0                      3                        3  \n",
      "764                  2                      6                        1  \n",
      "765                  1                      6                        5  \n",
      "766                  1                      7                        3  \n",
      "767                  2                      8                        1  \n",
      "\n",
      "[768 rows x 23 columns]\n"
     ]
    }
   ],
   "source": [
    "print(df)"
   ]
  },
  {
   "cell_type": "code",
   "execution_count": 6,
   "metadata": {},
   "outputs": [],
   "source": [
    "labels = np.array(df[\"Win\"] + 1)  # Get in Array what we want to predict\n",
    "df = df.drop('Win',axis = 1)   # Get in Array all other data\n",
    "df = df.drop('Opponent',axis = 1)\n",
    "\n",
    "df_list = list(df.columns)\n",
    "df = np.array(df)"
   ]
  },
  {
   "cell_type": "code",
   "execution_count": 7,
   "metadata": {},
   "outputs": [
    {
     "name": "stdout",
     "output_type": "stream",
     "text": [
      "(768, 21)\n",
      "(768,)\n"
     ]
    }
   ],
   "source": [
    "print(df.shape)\n",
    "print(labels.shape)"
   ]
  },
  {
   "cell_type": "code",
   "execution_count": 8,
   "metadata": {},
   "outputs": [],
   "source": [
    "train_features, test_features, train_labels, test_labels = train_test_split(df, labels, test_size=0.10)"
   ]
  },
  {
   "cell_type": "code",
   "execution_count": 9,
   "metadata": {},
   "outputs": [
    {
     "name": "stdout",
     "output_type": "stream",
     "text": [
      "Training Features Shape: (691, 21)\n",
      "Training Labels Shape: (691,)\n",
      "Testing Features Shape: (77, 21)\n",
      "Testing Labels Shape: (77,)\n"
     ]
    }
   ],
   "source": [
    "print('Training Features Shape:', train_features.shape)\n",
    "print('Training Labels Shape:', train_labels.shape)\n",
    "print('Testing Features Shape:', test_features.shape)\n",
    "print('Testing Labels Shape:', test_labels.shape)"
   ]
  },
  {
   "cell_type": "code",
   "execution_count": 10,
   "metadata": {},
   "outputs": [
    {
     "name": "stdout",
     "output_type": "stream",
     "text": [
      "Average baseline error:  0.38\n"
     ]
    }
   ],
   "source": [
    "baseline = [1.5]*77\n",
    "baseline_errors = abs(baseline - test_labels)\n",
    "\n",
    "print('Average baseline error: ', round(np.mean(baseline_errors), 2))"
   ]
  },
  {
   "cell_type": "code",
   "execution_count": 11,
   "metadata": {},
   "outputs": [
    {
     "data": {
      "text/plain": [
       "RandomForestRegressor(bootstrap=True, ccp_alpha=0.0, criterion='mse',\n",
       "                      max_depth=None, max_features='auto', max_leaf_nodes=None,\n",
       "                      max_samples=None, min_impurity_decrease=0.0,\n",
       "                      min_impurity_split=None, min_samples_leaf=1,\n",
       "                      min_samples_split=2, min_weight_fraction_leaf=0.0,\n",
       "                      n_estimators=1000, n_jobs=None, oob_score=False,\n",
       "                      random_state=42, verbose=0, warm_start=False)"
      ]
     },
     "execution_count": 11,
     "metadata": {},
     "output_type": "execute_result"
    }
   ],
   "source": [
    "rf = RandomForestRegressor(n_estimators = 1000, random_state = 42)\n",
    "rf.fit(train_features, train_labels)"
   ]
  },
  {
   "cell_type": "code",
   "execution_count": 12,
   "metadata": {},
   "outputs": [
    {
     "name": "stdout",
     "output_type": "stream",
     "text": [
      "Mean Absolute Error: 0.0 degrees.\n"
     ]
    }
   ],
   "source": [
    "predictions = rf.predict(test_features)\n",
    "errors = abs(predictions - test_labels)\n",
    "print('Mean Absolute Error:', round(np.mean(errors),2), 'degrees.')"
   ]
  },
  {
   "cell_type": "code",
   "execution_count": 13,
   "metadata": {},
   "outputs": [
    {
     "name": "stdout",
     "output_type": "stream",
     "text": [
      "Accuracy: 99.92 %.\n"
     ]
    }
   ],
   "source": [
    "# Calculate mean absolute percentage error (MAPE)\n",
    "mape = 100 * (errors / test_labels)\n",
    "# Calculate and display accuracy\n",
    "accuracy = 100 - np.mean(mape)\n",
    "print('Accuracy:', round(accuracy, 2), '%.')"
   ]
  },
  {
   "cell_type": "code",
   "execution_count": 14,
   "metadata": {},
   "outputs": [
    {
     "name": "stdout",
     "output_type": "stream",
     "text": [
      "Variable: Opponent Goals       Importance: 0.5\n",
      "Variable: Goals                Importance: 0.49\n",
      "Variable: HomeOrAway           Importance: 0.0\n",
      "Variable: Possession           Importance: 0.0\n",
      "Variable: Shots                Importance: 0.0\n",
      "Variable: Shots on Target      Importance: 0.0\n",
      "Variable: Fouls                Importance: 0.0\n",
      "Variable: Yellow Cards         Importance: 0.0\n",
      "Variable: Red Cards            Importance: 0.0\n",
      "Variable: Offsides             Importance: 0.0\n",
      "Variable: Corner Kicks         Importance: 0.0\n",
      "Variable: Saves                Importance: 0.0\n",
      "Variable: Opponent Possession  Importance: 0.0\n",
      "Variable: Opponent Shots       Importance: 0.0\n",
      "Variable: opponent Shots on Target Importance: 0.0\n",
      "Variable: Opponent Fouls       Importance: 0.0\n",
      "Variable: Opponent Yellow Cards Importance: 0.0\n",
      "Variable: Opponent Red Cards   Importance: 0.0\n",
      "Variable: Opponent Offsides    Importance: 0.0\n",
      "Variable: Opponent Corner Kicks Importance: 0.0\n",
      "Variable: Opponent Opponent Saves Importance: 0.0\n"
     ]
    }
   ],
   "source": [
    "# Get numerical feature importances\n",
    "importances = list(rf.feature_importances_)\n",
    "\n",
    "# List of tuples with variable and importance\n",
    "df_importances = [(df, round(importance, 2)) for df, importance in zip(df_list, importances)]\n",
    "\n",
    "# Sort the feature importances by most important first\n",
    "df_importances = sorted(df_importances, key = lambda x: x[1], reverse = True)\n",
    "\n",
    "# Print out the feature and importances \n",
    "[print('Variable: {:20} Importance: {}'.format(*pair)) for pair in df_importances];\n"
   ]
  },
  {
   "cell_type": "code",
   "execution_count": 15,
   "metadata": {},
   "outputs": [
    {
     "name": "stdout",
     "output_type": "stream",
     "text": [
      "Mean Absolute Error: 0.0 degrees.\n",
      "Accuracy: 99.99 %.\n"
     ]
    }
   ],
   "source": [
    "# New random forest with only the two most important variables\n",
    "rf_most_important = RandomForestRegressor(n_estimators= 1000, random_state=42)\n",
    "# Extract the two most important features\n",
    "important_indices = [df_list.index('Goals'), df_list.index('Opponent Goals')]\n",
    "train_important = train_features[:, important_indices]\n",
    "test_important = test_features[:, important_indices]\n",
    "# Train the random forest\n",
    "rf_most_important.fit(train_important, train_labels)\n",
    "# Make predictions and determine the error\n",
    "predictions = rf_most_important.predict(test_important)\n",
    "errors = abs(predictions - test_labels)\n",
    "# Display the performance metrics\n",
    "print('Mean Absolute Error:', round(np.mean(errors), 2), 'degrees.')\n",
    "mape = np.mean(100 * (errors / test_labels))\n",
    "accuracy = 100 - mape\n",
    "print('Accuracy:', round(accuracy, 2), '%.')"
   ]
  }
 ],
 "metadata": {
  "kernelspec": {
   "display_name": "Python 3",
   "language": "python",
   "name": "python3"
  },
  "language_info": {
   "codemirror_mode": {
    "name": "ipython",
    "version": 3
   },
   "file_extension": ".py",
   "mimetype": "text/x-python",
   "name": "python",
   "nbconvert_exporter": "python",
   "pygments_lexer": "ipython3",
   "version": "3.7.0"
  }
 },
 "nbformat": 4,
 "nbformat_minor": 2
}
